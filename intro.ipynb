{
  "cells": [
    {
      "cell_type": "code",
      "execution_count": null,
      "metadata": {
        "id": "nLxZsJa2UL5k"
      },
      "outputs": [],
      "source": [
        "\n"
      ]
    },
    {
      "cell_type": "markdown",
      "metadata": {
        "id": "d5WSRu5XUL5p"
      },
      "source": [
        "### The AV SSVEP Dataset\n",
        "Os dados foram captados usando três eletrodos (Oz, Fpz, Pz).\n",
        "O objetivo deste dataset é ajudar projetos não comerciais a iniciar projetos de SSVEP usando dados reais.\n",
        "O único processamento aplicado nos dados é um filtro de entalhe analógico na frequência principal de 50Hz.\n",
        "Os datasets contém participantes diferentes, ou seja, o participante 1 do dataset de single-target, pode não ser o mesmo do dataser de multi target.\n",
        "\n",
        "Métodos:\n",
        "1. Single-target\n",
        "- Neste experimento o participante se senta a 60cm de distância do monitor, e observam um único alvo piscando, que troca de cor rapidamente entre preto e branco.\n",
        "- O dataset consiste de quatro sessões com quatro diferentes participantes.\n",
        "- Cada sessão dura 30 segundos, e entre cada sessão os participantes tinham um curto tempo de descanso.\n",
        "- Para cada frequência os testes eram repetidos por pelo menos 3 vezes.\n",
        "\n",
        "2. Multi-target\n",
        "- Nesse experimento o participante está sentado a 60cm de distância do monitor, onde eles focam em um de múltiplos alvos que piscam mudando de cor rapidamente entre preto e branco.\n",
        "- Para cada participante existem dois arquivos representando duas sessões, cada sessão tem dez testes de dezesseis segundos."
      ]
    },
    {
      "cell_type": "markdown",
      "metadata": {},
      "source": [
        "### BETA: A Large Benchmark Database Toward SSVEP-BCI Application\n",
        "Os dados foram captados usando uma touca com 64 eletrodos.\n",
        "O objetivo deste dataset é atender a demanda de dados que sirvam de testes para aplicações reais na área de BCIs (Brain-Computer Interface, traduzido, Interface Cérebro-Computador).\n",
        "Os dados foram pré processados usando:\n",
        "- Filtro passa-faixa de 3 a 100 Hz para remover ruídos do ambiente;\n",
        "- E então foram extraídos epochs para cada bloco, em diferentes momentos da duração dos estimulos\n",
        "- E já que a resolução de frequência não afeta o resultado de classificação do SSVEP, todos os epochs foram compactados para 250 Hz.\n",
        "\n",
        "A coleta dos dados foi feita com 70 pessoas, que deveriam executar 40 exercicios de soletração ao se concentrar nas letras, e tecla espaço que estavam dispostas na tela com layout muito próximo a de um teclado QWERT, cada tecla era correspondente a uma frequência."
      ]
    },
    {
      "cell_type": "markdown",
      "metadata": {
        "id": "1ffnku7YUOD8"
      },
      "source": [
        "Segundo artigo: participante 8-8, caso dê erro nos dados do participante 8, some 13, e use os dados do participante 21"
      ]
    }
  ],
  "metadata": {
    "colab": {
      "provenance": []
    },
    "kernelspec": {
      "display_name": "Python 3",
      "language": "python",
      "name": "python3"
    },
    "language_info": {
      "codemirror_mode": {
        "name": "ipython",
        "version": 3
      },
      "file_extension": ".py",
      "mimetype": "text/x-python",
      "name": "python",
      "nbconvert_exporter": "python",
      "pygments_lexer": "ipython3",
      "version": "3.11.3"
    },
    "orig_nbformat": 4
  },
  "nbformat": 4,
  "nbformat_minor": 0
}
