{
  "cells": [
    {
      "cell_type": "code",
      "execution_count": null,
      "metadata": {
        "id": "6V5BR7uTQC8p"
      },
      "outputs": [],
      "source": [
        "\n"
      ]
    },
    {
      "cell_type": "markdown",
      "metadata": {
        "id": "MQMOBGpwQC8r"
      },
      "source": [
        "The AV SSVEP Dataset\n",
        "Os dados foram captados usando três eletrodos (Oz, Fpz, Pz).\n",
        "O objetivo deste dataset é ajudar projetos não comerciais a iniciar projetos de SSVEP usando dados reais.\n",
        "O único processamento aplicado nos dados é um filtro de entalhe analógico na frequência principal de 50Hz.\n",
        "Os datasets contém participantes diferentes, ou seja, o participante 1 do dataset de single-target, pode não ser o mesmo do dataser de multi target.\n",
        "\n",
        "Métodos:\n",
        "1. Single-target\n",
        "- Neste experimento o participante se senta a 60cm de distância do monitor, e observam um único alvo piscando, que troca de cor rapidamente entre preto e branco.\n",
        "- O dataset consiste de quatro sessões com quatro diferentes participantes.\n",
        "- Cada sessão dura 30 segundos, e entre cada sessão os participantes tinham um curto tempo de descanso.\n",
        "- Para cada frequência os testes eram repetidos por pelo menos 3 vezes.\n",
        "\n",
        "2. Multi-target\n",
        "- Nesse experimento o participante está sentado a 60cm de distância do monitor, onde eles focam em um de múltiplos alvos que piscam mudando de cor rapidamente entre preto e branco.\n",
        "- Para cada participante existem dois arquivos representando duas sessões, cada sessão tem dez testes de dezesseis segundos."
      ]
    },
    {
      "cell_type": "markdown",
      "source": [
        "Teste de sincronia..."
      ],
      "metadata": {
        "id": "TOdIwdwLQkyD"
      }
    },
    {
      "cell_type": "markdown",
      "source": [
        "ola bbbbbbbbbbbbbbbbbbbbbbbbbbbbbbbbbbb"
      ],
      "metadata": {
        "id": "Mm4-l3MuQnVF"
      }
    },
    {
      "cell_type": "markdown",
      "source": [
        "sadsadsadsad"
      ],
      "metadata": {
        "id": "7hbtBPSMRX5z"
      }
    },
    {
      "cell_type": "code",
      "source": [],
      "metadata": {
        "id": "fcDYhIUfQmMo"
      },
      "execution_count": null,
      "outputs": []
    }
  ],
  "metadata": {
    "language_info": {
      "name": "python"
    },
    "orig_nbformat": 4,
    "colab": {
      "provenance": []
    }
  },
  "nbformat": 4,
  "nbformat_minor": 0
}