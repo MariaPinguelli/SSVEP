{
  "cells": [
    {
      "cell_type": "markdown",
      "source": [
        "#Inicialização dos Dados\n",
        "\n",
        "Abrir os dados dos arquivos e formata-los para o processamento dos dados."
      ],
      "metadata": {
        "id": "qYonTx6pS8Hy"
      }
    },
    {
      "cell_type": "markdown",
      "source": [
        "###Import's\n",
        "\n",
        "Importar as bibliotecas que serão utilizadas.\n"
      ],
      "metadata": {
        "id": "cfRaTsnGWbzf"
      }
    },
    {
      "cell_type": "code",
      "execution_count": 30,
      "metadata": {
        "id": "6V5BR7uTQC8p"
      },
      "outputs": [],
      "source": [
        "from scipy.io import loadmat\n",
        "import numpy as np"
      ]
    },
    {
      "cell_type": "markdown",
      "source": [
        "###Carregamento\n",
        "\n",
        "Carregar as bases de dados."
      ],
      "metadata": {
        "id": "JbMqkD7FWi0O"
      }
    },
    {
      "cell_type": "code",
      "source": [
        "from google.colab import drive\n",
        "drive.mount('/content/drive')"
      ],
      "metadata": {
        "colab": {
          "base_uri": "https://localhost:8080/"
        },
        "id": "525n1MKj4Xjd",
        "outputId": "b913bbc3-c60a-4c30-fdbf-17f974d9c90b"
      },
      "execution_count": 31,
      "outputs": [
        {
          "output_type": "stream",
          "name": "stdout",
          "text": [
            "Drive already mounted at /content/drive; to attempt to forcibly remount, call drive.mount(\"/content/drive\", force_remount=True).\n"
          ]
        }
      ]
    },
    {
      "cell_type": "code",
      "source": [
        "avi_data = list()\n",
        "for i in range(1,5):\n",
        "  avi_data.append(loadmat(f\"drive/MyDrive/datasets/avi/single/Sub{i}_singletarget.mat\"))"
      ],
      "metadata": {
        "id": "fZUC-RRbUOmy"
      },
      "execution_count": 3,
      "outputs": []
    },
    {
      "cell_type": "markdown",
      "source": [
        "###Extração\n",
        "\n",
        "Extração dos dados"
      ],
      "metadata": {
        "id": "3AzkFevpWyVZ"
      }
    },
    {
      "cell_type": "code",
      "source": [
        "X = [d['Data'][0][0][0] for d in avi_data]\n",
        "y = [d['Data'][0][0][1] for d in avi_data]\n",
        "\n",
        "print(\"Divisão dos dados:\")\n",
        "for data in X:\n",
        "    print(data.shape)\n",
        "\n",
        "print(\"\\nDivisão dos rótulos (sequências):\")\n",
        "for data in y:\n",
        "    print(data)"
      ],
      "metadata": {
        "id": "MtNVNyUCUaHa",
        "outputId": "29e363f0-0a27-448b-dd04-4e023db6401d",
        "colab": {
          "base_uri": "https://localhost:8080/"
        }
      },
      "execution_count": 4,
      "outputs": [
        {
          "output_type": "stream",
          "name": "stdout",
          "text": [
            "Divisão dos dados:\n",
            "(15360, 27)\n",
            "(15360, 26)\n",
            "(15360, 21)\n",
            "(15360, 21)\n",
            "\n",
            "Divisão dos rótulos (sequências):\n",
            "[[10.  10.  10.  12.  12.  12.   6.5  6.5  6.5  6.   6.   6.   6.   6.\n",
            "   6.   7.5  7.5  7.5  7.   7.   7.   8.2  8.2  8.2  9.3  9.3  9.3]]\n",
            "[[10.  10.  10.   6.5  6.5  6.5  6.5  6.   6.   6.   7.5  7.5  7.5  7.\n",
            "   7.   7.   7.   7.   7.   8.2  8.2  8.2  8.2  9.3  9.3  9.3]]\n",
            "[[10.  10.  10.   6.5  6.5  6.5  6.   6.   6.   7.5  7.5  7.5  7.   7.\n",
            "   7.   8.2  8.2  8.2  9.3  9.3  9.3]]\n",
            "[[10.  10.  10.   6.5  6.5  6.5  6.   6.   6.   7.5  7.5  7.5  7.   7.\n",
            "   7.   8.2  8.2  8.2  9.3  9.3  9.3]]\n"
          ]
        }
      ]
    },
    {
      "cell_type": "markdown",
      "source": [
        "###Padronização\n",
        "\n",
        "Padronização dos dados de cada participante."
      ],
      "metadata": {
        "id": "9OxgXvhbXTYB"
      }
    },
    {
      "cell_type": "code",
      "source": [
        "partX = list()\n",
        "partY = list()\n",
        "\n",
        "\n",
        "for i in range(4):\n",
        "  partX.append( X[i][:, list(set(range(21)) - set([3, 4, 5, 12, 13, 14]))] )\n",
        "  partY.append( y[i][:, list(set(range(21)) - set([3, 4, 5, 12, 13, 14]))] )\n",
        "\n",
        "  print(partX[i].shape, partY[i].shape)"
      ],
      "metadata": {
        "id": "6t2vpsS4U1Ym",
        "outputId": "53f3c34f-9530-4cb2-d7a3-e9d889bbe295",
        "colab": {
          "base_uri": "https://localhost:8080/"
        }
      },
      "execution_count": 27,
      "outputs": [
        {
          "output_type": "stream",
          "name": "stdout",
          "text": [
            "(15360, 15) (1, 15)\n",
            "(15360, 15) (1, 15)\n",
            "(15360, 15) (1, 15)\n",
            "(15360, 15) (1, 15)\n"
          ]
        }
      ]
    },
    {
      "cell_type": "markdown",
      "source": [
        "###Salvar Dados\n",
        "\n",
        "Salvar os dados padronizados de cada participante em estrutura do numpy em arquivos separados."
      ],
      "metadata": {
        "id": "N4I0vleIXjNQ"
      }
    },
    {
      "cell_type": "code",
      "source": [
        "for i in range(4):\n",
        "  np.save(f\"drive/MyDrive/datasets/avi/single/data_sub{i+1}.npy\", partX[i])\n",
        "  np.save(f\"drive/MyDrive/datasets/avi/single/labels_sub{i+1}.npy\", partY[i])"
      ],
      "metadata": {
        "id": "EcaqoPeAU3RM"
      },
      "execution_count": 29,
      "outputs": []
    },
    {
      "cell_type": "markdown",
      "source": [
        "#Tarefas:\n",
        "\n",
        "\n",
        "\n",
        "*   Padronizar os dados de todos os 4 participantes dos dados single-target e salvar de forma adequada para utilização nos próximos notebooks. (OK)\n",
        "*   Realizar o mesmo estudo para os dados multi-target. (OK)\n",
        "\n"
      ],
      "metadata": {
        "id": "49sGkHNYU6f4"
      }
    },
    {
      "cell_type": "code",
      "source": [],
      "metadata": {
        "id": "zF8RYU0VU5yP"
      },
      "execution_count": 6,
      "outputs": []
    }
  ],
  "metadata": {
    "language_info": {
      "name": "python"
    },
    "orig_nbformat": 4,
    "colab": {
      "provenance": []
    },
    "kernelspec": {
      "name": "python3",
      "display_name": "Python 3"
    }
  },
  "nbformat": 4,
  "nbformat_minor": 0
}
