{
  "cells": [
    {
      "cell_type": "markdown",
      "metadata": {
        "id": "qYonTx6pS8Hy"
      },
      "source": [
        "# Inicialização dos Dados\n",
        "\n",
        "Abrir os dados dos arquivos e formata-los para o processamento dos dados."
      ]
    },
    {
      "cell_type": "markdown",
      "metadata": {
        "id": "cfRaTsnGWbzf"
      },
      "source": [
        "### Import's\n",
        "\n",
        "Importar as bibliotecas que serão utilizadas.\n"
      ]
    },
    {
      "cell_type": "code",
      "execution_count": 1,
      "metadata": {
        "id": "6V5BR7uTQC8p"
      },
      "outputs": [],
      "source": [
        "from scipy.io import loadmat                # Biblioteca para carregar arquivos .mat\n",
        "import numpy as np                          # Biblioteca do numpy para manipulação de matrizes"
      ]
    },
    {
      "cell_type": "markdown",
      "metadata": {
        "id": "JbMqkD7FWi0O"
      },
      "source": [
        "### Carregamento\n",
        "\n",
        "Carregar as bases de dados."
      ]
    },
    {
      "cell_type": "code",
      "execution_count": 2,
      "metadata": {
        "colab": {
          "base_uri": "https://localhost:8080/"
        },
        "id": "525n1MKj4Xjd",
        "outputId": "b913bbc3-c60a-4c30-fdbf-17f974d9c90b"
      },
      "outputs": [],
      "source": [
        "# Ativa/destiva o uso do Google Drive\n",
        "\n",
        "if False:\n",
        "    from google.colab import drive\n",
        "    drive.mount('/content/drive')\n",
        "    path = 'drive/MyDrive/'\n",
        "else:\n",
        "    path = ''"
      ]
    },
    {
      "cell_type": "code",
      "execution_count": 3,
      "metadata": {
        "id": "fZUC-RRbUOmy"
      },
      "outputs": [],
      "source": [
        "avi_data = list()                               # Lista para armazenar os dados dos arquivos .mat\n",
        "\n",
        "for i in range(1,5):\n",
        "  avi_data.append(loadmat(f\"{path}datasets/avi/single/Sub{i}_singletarget.mat\"))"
      ]
    },
    {
      "cell_type": "markdown",
      "metadata": {
        "id": "3AzkFevpWyVZ"
      },
      "source": [
        "### Extração\n",
        "\n",
        "Extração dos dados"
      ]
    },
    {
      "cell_type": "code",
      "execution_count": 4,
      "metadata": {
        "colab": {
          "base_uri": "https://localhost:8080/"
        },
        "id": "MtNVNyUCUaHa",
        "outputId": "29e363f0-0a27-448b-dd04-4e023db6401d"
      },
      "outputs": [
        {
          "name": "stdout",
          "output_type": "stream",
          "text": [
            "Divisão dos dados:\n",
            "(15360, 27)\n",
            "(15360, 26)\n",
            "(15360, 21)\n",
            "(15360, 21)\n",
            "\n",
            "Divisão dos rótulos (sequências):\n",
            "[[10.  10.  10.  12.  12.  12.   6.5  6.5  6.5  6.   6.   6.   6.   6.\n",
            "   6.   7.5  7.5  7.5  7.   7.   7.   8.2  8.2  8.2  9.3  9.3  9.3]]\n",
            "[[10.  10.  10.   6.5  6.5  6.5  6.5  6.   6.   6.   7.5  7.5  7.5  7.\n",
            "   7.   7.   7.   7.   7.   8.2  8.2  8.2  8.2  9.3  9.3  9.3]]\n",
            "[[10.  10.  10.   6.5  6.5  6.5  6.   6.   6.   7.5  7.5  7.5  7.   7.\n",
            "   7.   8.2  8.2  8.2  9.3  9.3  9.3]]\n",
            "[[10.  10.  10.   6.5  6.5  6.5  6.   6.   6.   7.5  7.5  7.5  7.   7.\n",
            "   7.   8.2  8.2  8.2  9.3  9.3  9.3]]\n"
          ]
        }
      ],
      "source": [
        "X = [d['Data'][0][0][0] for d in avi_data]      # Lista com os dados dos participantes\n",
        "y = [d['Data'][0][0][1] for d in avi_data]      # Lista com os rótulos (sequências) dos participantes\n",
        "\n",
        "\n",
        "print(\"Divisão dos dados:\")\n",
        "for data in X:\n",
        "    print(data.shape)\n",
        "\n",
        "print(\"\\nDivisão dos rótulos (sequências):\")\n",
        "for data in y:\n",
        "    print(data)"
      ]
    },
    {
      "cell_type": "markdown",
      "metadata": {
        "id": "9OxgXvhbXTYB"
      },
      "source": [
        "### Padronização\n",
        "\n",
        "Padronização dos dados de cada participante."
      ]
    },
    {
      "cell_type": "code",
      "execution_count": 5,
      "metadata": {},
      "outputs": [],
      "source": [
        "# Funcao para encontrar os indices dos valores que repetem mais de 3 vezes\n",
        "def encontraValoresRepetidos(vetor):\n",
        "    indices = []\n",
        "    \n",
        "    for i in range(3, len(vetor)):\n",
        "        if vetor[i] == vetor[i - 1] == vetor[i - 2] == vetor[i - 3]:\n",
        "            indices.append(i)\n",
        "    \n",
        "    return indices"
      ]
    },
    {
      "cell_type": "code",
      "execution_count": 6,
      "metadata": {
        "colab": {
          "base_uri": "https://localhost:8080/"
        },
        "id": "6t2vpsS4U1Ym",
        "outputId": "53f3c34f-9530-4cb2-d7a3-e9d889bbe295"
      },
      "outputs": [
        {
          "name": "stdout",
          "output_type": "stream",
          "text": [
            "(4, 15360, 21) (4, 1, 21)\n",
            "\n"
          ]
        }
      ],
      "source": [
        "data = list()             # Lista para armazenar os dados padronizados dos participantes\n",
        "labels = list()           # Lista para armazenar os rótulos padronizados dos participantes\n",
        "\n",
        "\n",
        "# Padronizar os dados dos participantes (remover os dados da sequência 12 e os dados que aparecem mais de 3 vezes)\n",
        "for i in range(len(y)):\n",
        "  # Buscar os indices onde os rótulos são iguais a 12 (sequência 12)\n",
        "  idx12 = np.where(y[i][0] == 12)\n",
        "\n",
        "  # Buscar os indices dos valores que apareceram mais de 3 vezes\n",
        "  idxRptds = encontraValoresRepetidos(y[i][0])\n",
        "\n",
        "  \n",
        "  # Salvar os dados padronizados\n",
        "  data.append( X[i][:, list(set(range(X[i].shape[1])) - set(idx12[0]) - set(idxRptds))] )\n",
        "  labels.append( y[i][:, list(set(range(y[i].shape[1])) - set(idx12[0]) - set(idxRptds))] )\n",
        "\n",
        "\n",
        "data = np.array(data)\n",
        "labels = np.array(labels)\n",
        "\n",
        "print(data.shape, labels.shape)\n",
        "print()"
      ]
    },
    {
      "cell_type": "markdown",
      "metadata": {
        "id": "N4I0vleIXjNQ"
      },
      "source": [
        "### Salvar Dados\n",
        "\n",
        "Salvar os dados padronizados de cada participante em estrutura do numpy em arquivos separados."
      ]
    },
    {
      "cell_type": "code",
      "execution_count": 7,
      "metadata": {
        "id": "EcaqoPeAU3RM"
      },
      "outputs": [],
      "source": [
        "# Salvando os dados e rótulos padronizados em arquivos .npy.\n",
        "\n",
        "for i in range(len(X)):\n",
        "  np.save(f\"{path}datasets/avi/single/data_sub{i+1}.npy\", X[i])\n",
        "  np.save(f\"{path}datasets/avi/single/labels_sub{i+1}.npy\", y[i])\n",
        "\n",
        "np.save(f\"{path}datasets/avi/single/data.npy\", data)\n",
        "np.save(f\"{path}datasets/avi/single/labels.npy\", labels)"
      ]
    },
    {
      "cell_type": "markdown",
      "metadata": {
        "id": "49sGkHNYU6f4"
      },
      "source": [
        "# Tarefas:\n",
        "\n",
        "\n",
        "\n",
        "*   Padronizar os dados de todos os 4 participantes dos dados single-target e salvar de forma adequada para utilização nos próximos notebooks. (OK)\n",
        "*   Realizar o mesmo estudo para os dados multi-target. (OK)\n",
        "\n"
      ]
    }
  ],
  "metadata": {
    "colab": {
      "provenance": []
    },
    "kernelspec": {
      "display_name": "Python 3",
      "name": "python3"
    },
    "language_info": {
      "codemirror_mode": {
        "name": "ipython",
        "version": 3
      },
      "file_extension": ".py",
      "mimetype": "text/x-python",
      "name": "python",
      "nbconvert_exporter": "python",
      "pygments_lexer": "ipython3",
      "version": "3.11.3"
    },
    "orig_nbformat": 4
  },
  "nbformat": 4,
  "nbformat_minor": 0
}
