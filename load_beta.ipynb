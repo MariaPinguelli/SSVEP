{
 "cells": [
  {
   "cell_type": "code",
   "execution_count": 1,
   "metadata": {},
   "outputs": [],
   "source": [
    "from scipy.io import loadmat                # Biblioteca para carregar arquivos .mat\n",
    "import numpy as np                          # Biblioteca do numpy para manipulação de matrizes"
   ]
  },
  {
   "cell_type": "code",
   "execution_count": 5,
   "metadata": {},
   "outputs": [],
   "source": [
    "file = loadmat(\"./datasets/beta/S8.mat\")"
   ]
  },
  {
   "cell_type": "code",
   "execution_count": 122,
   "metadata": {},
   "outputs": [
    {
     "name": "stdout",
     "output_type": "stream",
     "text": [
      "DATA 40\n"
     ]
    }
   ],
   "source": [
    "data = file['data'][0][0][0]\n",
    "labels = file['data'][0][0][1][0][0]\n",
    "\n",
    "# print(\"Participante:\", labels[0][0])\n",
    "# print(\"Idade:\", labels[1][0][0])\n",
    "# print(\"Gênero:\", labels[2][0])\n",
    "# print(\"Eletrodos:\", len(labels[3]))\n",
    "# print(\"Labels:\", labels[4][0])\n",
    "# print(\"Dados desconhecidos i = 5 - len():\", len(labels[5][0]))\n",
    "# print(\"Dados desconhecidos i = 6:\", labels[6][0][0])\n",
    "# print(\"Dados desconhecidos i = 7:\", labels[7][0][0])\n",
    "\n",
    "labels = labels[4][0]\n",
    "\n",
    "# data é composto pelos 64 eletrodos, cada um na lista contem 650 items, e cada um dos 650 items contém 4 items,\n",
    "# e cada um dos 4 items contém 40 números (frequências representando as teclas)\n",
    "# 64 eletrodos\n",
    "# 650 ???\n",
    "# 4 ???\n",
    "# 40 teclas\n",
    "print(\"DATA\", len(data[63][0][2]))\n"
   ]
  }
 ],
 "metadata": {
  "kernelspec": {
   "display_name": "Python 3",
   "language": "python",
   "name": "python3"
  },
  "language_info": {
   "codemirror_mode": {
    "name": "ipython",
    "version": 3
   },
   "file_extension": ".py",
   "mimetype": "text/x-python",
   "name": "python",
   "nbconvert_exporter": "python",
   "pygments_lexer": "ipython3",
   "version": "3.10.12"
  },
  "orig_nbformat": 4
 },
 "nbformat": 4,
 "nbformat_minor": 2
}
