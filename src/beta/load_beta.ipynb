{
  "cells": [
    {
      "cell_type": "markdown",
      "source": [
        "# Inicialização dos Dados\n",
        "\n",
        "Abrir os dados dos arquivos dos datasets e formata-los para o processamento dos dados. Os dados serão formatados em diferentes arquivos, separando em `data`, `labels` e `channels`,\n"
      ],
      "metadata": {
        "id": "BtVdyyn4Xzh1"
      }
    },
    {
      "cell_type": "markdown",
      "source": [
        "### Import's\n",
        "\n",
        "Importar as bibliotecas que serão utilizadas para a realização do load dos dados.\n"
      ],
      "metadata": {
        "id": "hWy_bZOeZk6y"
      }
    },
    {
      "cell_type": "code",
      "execution_count": null,
      "metadata": {
        "id": "PLbT671FXo5D"
      },
      "outputs": [],
      "source": [
        "from scipy.io import loadmat                # Biblioteca para carregar arquivos .mat\n",
        "import numpy as np                          # Biblioteca do numpy para manipulação de matrizes"
      ]
    },
    {
      "cell_type": "markdown",
      "source": [
        "### Carregamento\n",
        "\n",
        "Carregar as bases de dados no programa e salvar em variáveis."
      ],
      "metadata": {
        "id": "UKsfLs9bZyS5"
      }
    },
    {
      "cell_type": "code",
      "source": [
        "# Ativa/destiva o uso do Google Drive\n",
        "\n",
        "if False:\n",
        "    from google.colab import drive\n",
        "    drive.mount('/content/drive')\n",
        "    path = 'drive/MyDrive/'\n",
        "else:\n",
        "    path = '../../../'"
      ],
      "metadata": {
        "id": "vDqlvuh_Z0K6"
      },
      "execution_count": null,
      "outputs": []
    },
    {
      "cell_type": "code",
      "execution_count": null,
      "metadata": {
        "id": "MKSkfPngXo5G"
      },
      "outputs": [],
      "source": [
        "file = loadmat(f\"{path}datasets/beta/S8.mat\", struct_as_record=True)"
      ]
    },
    {
      "cell_type": "markdown",
      "source": [
        "### Extração\n",
        "\n",
        "Extração dos dados abertos para variáveis."
      ],
      "metadata": {
        "id": "_ERnpyNKc9zf"
      }
    },
    {
      "cell_type": "code",
      "execution_count": null,
      "metadata": {
        "id": "ZAog73pxXo5H"
      },
      "outputs": [],
      "source": [
        "X = file['data'][0][0][0]\n",
        "Y = file['data'][0][0][1][0][0][4][0]\n",
        "\n",
        "channels = list()\n",
        "\n",
        "file_data = file['data'][0][0][1][0][0][3]\n",
        "\n",
        "for item in file_data:\n",
        "    channels.append(item[3][0])"
      ]
    },
    {
      "cell_type": "markdown",
      "source": [
        "### Padronização\n",
        "\n",
        "Os dados de cada participante estão em formato(shape). Para formatar os dados basta reorganizar os vetores juntando e trocando a ordem dos dados."
      ],
      "metadata": {
        "id": "QnxMUzZbdS6k"
      }
    },
    {
      "cell_type": "code",
      "execution_count": null,
      "metadata": {
        "id": "CYUNqxzTXo5I",
        "outputId": "db9285e2-c604-4438-9303-e144a4351a3c"
      },
      "outputs": [
        {
          "name": "stdout",
          "output_type": "stream",
          "text": [
            "SHAPE X (160, 64, 750)\n",
            "SHAPE Y [ 8.6  8.6  8.6  8.6  8.8  8.8  8.8  8.8  9.   9.   9.   9.   9.2  9.2\n",
            "  9.2  9.2  9.4  9.4  9.4  9.4  9.6  9.6  9.6  9.6  9.8  9.8  9.8  9.8\n",
            " 10.  10.  10.  10.  10.2 10.2 10.2 10.2 10.4 10.4 10.4 10.4 10.6 10.6\n",
            " 10.6 10.6 10.8 10.8 10.8 10.8 11.  11.  11.  11.  11.2 11.2 11.2 11.2\n",
            " 11.4 11.4 11.4 11.4 11.6 11.6 11.6 11.6 11.8 11.8 11.8 11.8 12.  12.\n",
            " 12.  12.  12.2 12.2 12.2 12.2 12.4 12.4 12.4 12.4 12.6 12.6 12.6 12.6\n",
            " 12.8 12.8 12.8 12.8 13.  13.  13.  13.  13.2 13.2 13.2 13.2 13.4 13.4\n",
            " 13.4 13.4 13.6 13.6 13.6 13.6 13.8 13.8 13.8 13.8 14.  14.  14.  14.\n",
            " 14.2 14.2 14.2 14.2 14.4 14.4 14.4 14.4 14.6 14.6 14.6 14.6 14.8 14.8\n",
            " 14.8 14.8 15.  15.  15.  15.  15.2 15.2 15.2 15.2 15.4 15.4 15.4 15.4\n",
            " 15.6 15.6 15.6 15.6 15.8 15.8 15.8 15.8  8.   8.   8.   8.   8.2  8.2\n",
            "  8.2  8.2  8.4  8.4  8.4  8.4]\n"
          ]
        }
      ],
      "source": [
        "#Reshape para ir de (64, 750, 4, 40) para (64, 750, 160)\n",
        "X_transposed = np.reshape(X, (64, 750, 160))\n",
        "\n",
        "# Trocamos a posição dos eixos\n",
        "X_transposed = np.swapaxes(X_transposed, 2, 0)\n",
        "X_transposed = np.swapaxes(X_transposed, 2, 1)\n",
        "print(\"SHAPE X\", X_transposed.shape)\n",
        "\n",
        "Y_transposed_temp = []\n",
        "\n",
        "for item in Y:\n",
        "    Y_transposed_temp.append([np.transpose(item)]*4)\n",
        "\n",
        "Y_transposed_temp = np.reshape(Y_transposed_temp, (160))\n",
        "Y_transposed = np.array(Y_transposed_temp)\n",
        "print(\"SHAPE Y\", Y_transposed)"
      ]
    },
    {
      "cell_type": "markdown",
      "source": [
        "### Salvar Dados\n",
        "\n",
        "Salvar os dados padronizados de cada categoria(`data`, `labels`, `channels`), que estão em estrutura do numpy em arquivos separados."
      ],
      "metadata": {
        "id": "3QqDJDUQfTpp"
      }
    },
    {
      "cell_type": "code",
      "execution_count": null,
      "metadata": {
        "id": "9mqrh9b0Xo5J"
      },
      "outputs": [],
      "source": [
        "np.save(f\"{path}datasets/beta/data.npy\", X_transposed)\n",
        "np.save(f\"{path}datasets/beta/labels.npy\", Y_transposed)\n",
        "np.save(f\"{path}datasets/beta/channels.npy\", channels)"
      ]
    }
  ],
  "metadata": {
    "kernelspec": {
      "display_name": "Python 3",
      "language": "python",
      "name": "python3"
    },
    "language_info": {
      "codemirror_mode": {
        "name": "ipython",
        "version": 3
      },
      "file_extension": ".py",
      "mimetype": "text/x-python",
      "name": "python",
      "nbconvert_exporter": "python",
      "pygments_lexer": "ipython3",
      "version": "3.11.3"
    },
    "orig_nbformat": 4,
    "colab": {
      "provenance": []
    }
  },
  "nbformat": 4,
  "nbformat_minor": 0
}
