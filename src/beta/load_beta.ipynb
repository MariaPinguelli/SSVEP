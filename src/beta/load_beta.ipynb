{
  "cells": [
    {
      "cell_type": "markdown",
      "metadata": {
        "id": "BtVdyyn4Xzh1"
      },
      "source": [
        "# Inicialização dos Dados\n",
        "\n",
        "Abrir os dados dos arquivos dos datasets e formata-los para o processamento dos dados. Os dados serão formatados em diferentes arquivos, separando em `data`, `labels` e `channels`,\n"
      ]
    },
    {
      "cell_type": "markdown",
      "metadata": {
        "id": "hWy_bZOeZk6y"
      },
      "source": [
        "### Import's\n",
        "\n",
        "Importar as bibliotecas que serão utilizadas para a realização do load dos dados.\n"
      ]
    },
    {
      "cell_type": "code",
      "execution_count": 11,
      "metadata": {
        "id": "PLbT671FXo5D"
      },
      "outputs": [],
      "source": [
        "from scipy.io import loadmat                # Biblioteca para carregar arquivos .mat\n",
        "import numpy as np                          # Biblioteca do numpy para manipulação de matrizes"
      ]
    },
    {
      "cell_type": "markdown",
      "metadata": {
        "id": "UKsfLs9bZyS5"
      },
      "source": [
        "### Carregamento\n",
        "\n",
        "Carregar as bases de dados no programa e salvar em variáveis."
      ]
    },
    {
      "cell_type": "code",
      "execution_count": 12,
      "metadata": {
        "id": "vDqlvuh_Z0K6"
      },
      "outputs": [],
      "source": [
        "# Ativa/destiva o uso do Google Drive\n",
        "\n",
        "if False:\n",
        "    from google.colab import drive\n",
        "    drive.mount('/content/drive')\n",
        "    path = 'drive/MyDrive/'\n",
        "else:\n",
        "    path = '../../'"
      ]
    },
    {
      "cell_type": "code",
      "execution_count": 13,
      "metadata": {
        "id": "MKSkfPngXo5G"
      },
      "outputs": [],
      "source": [
        "file = loadmat(f\"{path}datasets/beta/S8.mat\", struct_as_record=True)"
      ]
    },
    {
      "cell_type": "markdown",
      "metadata": {
        "id": "_ERnpyNKc9zf"
      },
      "source": [
        "### Extração\n",
        "\n",
        "Extração dos dados abertos para variáveis."
      ]
    },
    {
      "cell_type": "code",
      "execution_count": 14,
      "metadata": {
        "id": "ZAog73pxXo5H"
      },
      "outputs": [
        {
          "data": {
            "text/plain": [
              "(64, 750, 4, 40)"
            ]
          },
          "execution_count": 14,
          "metadata": {},
          "output_type": "execute_result"
        }
      ],
      "source": [
        "X = file['data'][0][0][0]\n",
        "Y = file['data'][0][0][1][0][0][4][0]\n",
        "\n",
        "channels = list()\n",
        "\n",
        "file_data = file['data'][0][0][1][0][0][3]\n",
        "\n",
        "for item in file_data:\n",
        "    channels.append(item[3][0])\n",
        "\n",
        "\n",
        "X.shape"
      ]
    },
    {
      "cell_type": "markdown",
      "metadata": {
        "id": "QnxMUzZbdS6k"
      },
      "source": [
        "### Padronização\n",
        "\n",
        "Os dados de cada participante estão em formato(shape). Para formatar os dados basta reorganizar os vetores juntando e trocando a ordem dos dados."
      ]
    },
    {
      "cell_type": "code",
      "execution_count": 17,
      "metadata": {
        "id": "CYUNqxzTXo5I",
        "outputId": "db9285e2-c604-4438-9303-e144a4351a3c"
      },
      "outputs": [
        {
          "name": "stdout",
          "output_type": "stream",
          "text": [
            "SHAPE X (160, 64, 750)\n",
            "SHAPE Y (160,)\n"
          ]
        }
      ],
      "source": [
        "#Reshape para ir de (64, 750, 4, 40) para (64, 750, 160)\n",
        "X_transposed = np.reshape(X, (64, 750, 160))\n",
        "\n",
        "# Trocamos a posição dos eixos\n",
        "X_transposed = np.swapaxes(X_transposed, 2, 0)\n",
        "X_transposed = np.swapaxes(X_transposed, 2, 1)\n",
        "print(\"SHAPE X\", X_transposed.shape)\n",
        "\n",
        "Y_transposed_temp = []\n",
        "\n",
        "for item in Y:\n",
        "    Y_transposed_temp.append([np.transpose(item)]*4)\n",
        "\n",
        "Y_transposed_temp = np.reshape(Y_transposed_temp, (160))\n",
        "Y_transposed = np.array(Y_transposed_temp)\n",
        "print(\"SHAPE Y\", Y_transposed.shape)"
      ]
    },
    {
      "cell_type": "markdown",
      "metadata": {
        "id": "3QqDJDUQfTpp"
      },
      "source": [
        "### Salvar Dados\n",
        "\n",
        "Salvar os dados padronizados de cada categoria(`data`, `labels`, `channels`), que estão em estrutura do numpy em arquivos separados."
      ]
    },
    {
      "cell_type": "code",
      "execution_count": 16,
      "metadata": {
        "id": "9mqrh9b0Xo5J"
      },
      "outputs": [],
      "source": [
        "np.save(f\"{path}datasets/beta/data.npy\", X_transposed)\n",
        "np.save(f\"{path}datasets/beta/labels.npy\", Y_transposed)\n",
        "np.save(f\"{path}datasets/beta/channels.npy\", channels)"
      ]
    }
  ],
  "metadata": {
    "colab": {
      "provenance": []
    },
    "kernelspec": {
      "display_name": "Python 3",
      "language": "python",
      "name": "python3"
    },
    "language_info": {
      "codemirror_mode": {
        "name": "ipython",
        "version": 3
      },
      "file_extension": ".py",
      "mimetype": "text/x-python",
      "name": "python",
      "nbconvert_exporter": "python",
      "pygments_lexer": "ipython3",
      "version": "3.11.3"
    },
    "orig_nbformat": 4
  },
  "nbformat": 4,
  "nbformat_minor": 0
}
