{
 "cells": [
  {
   "cell_type": "code",
   "execution_count": 1,
   "metadata": {},
   "outputs": [],
   "source": [
    "from scipy.io import loadmat                # Biblioteca para carregar arquivos .mat\n",
    "import numpy as np                          # Biblioteca do numpy para manipulação de matrizes\n",
    "\n",
    "path = \"../../\""
   ]
  },
  {
   "cell_type": "code",
   "execution_count": 2,
   "metadata": {},
   "outputs": [],
   "source": [
    "file = loadmat(f\"{path}datasets/beta/S8.mat\", struct_as_record=True)"
   ]
  },
  {
   "cell_type": "code",
   "execution_count": 3,
   "metadata": {},
   "outputs": [],
   "source": [
    "X = file['data'][0][0][0]\n",
    "Y = file['data'][0][0][1][0][0][4][0]\n",
    "\n",
    "channels = list()\n",
    "\n",
    "file_data = file['data'][0][0][1][0][0][3]\n",
    "\n",
    "for item in file_data:\n",
    "    channels.append(item[3][0])"
   ]
  },
  {
   "cell_type": "code",
   "execution_count": 8,
   "metadata": {},
   "outputs": [
    {
     "data": {
      "text/plain": [
       "((160, 64, 750), (160,))"
      ]
     },
     "execution_count": 8,
     "metadata": {},
     "output_type": "execute_result"
    }
   ],
   "source": [
    "#Reshape para ir de (64, 750, 4, 40) para (64, 750, 160)\n",
    "X_transposed = np.array(np.transpose(X,  (2, 3, 0, 1)))\n",
    "X_transposed = X_transposed.reshape(X_transposed.shape[0] * X_transposed.shape[1], X_transposed.shape[2], X_transposed.shape[3])\n",
    "\n",
    "Y_transposed_temp = []\n",
    "\n",
    "for item in Y:\n",
    "    Y_transposed_temp.append([np.transpose(item)] * 4)\n",
    "\n",
    "Y_transposed_temp = np.reshape(Y_transposed_temp, (160))\n",
    "Y_transposed = np.array(Y_transposed_temp)\n",
    "X_transposed.shape, Y_transposed.shape"
   ]
  },
  {
   "cell_type": "code",
   "execution_count": 7,
   "metadata": {},
   "outputs": [],
   "source": [
    "np.save(f\"{path}datasets/beta/data.npy\", X_transposed)\n",
    "np.save(f\"{path}datasets/beta/labels.npy\", Y_transposed)\n",
    "np.save(f\"{path}datasets/beta/channels.npy\", channels)"
   ]
  }
 ],
 "metadata": {
  "kernelspec": {
   "display_name": "Python 3",
   "language": "python",
   "name": "python3"
  },
  "language_info": {
   "codemirror_mode": {
    "name": "ipython",
    "version": 3
   },
   "file_extension": ".py",
   "mimetype": "text/x-python",
   "name": "python",
   "nbconvert_exporter": "python",
   "pygments_lexer": "ipython3",
   "version": "3.11.3"
  },
  "orig_nbformat": 4
 },
 "nbformat": 4,
 "nbformat_minor": 2
}
