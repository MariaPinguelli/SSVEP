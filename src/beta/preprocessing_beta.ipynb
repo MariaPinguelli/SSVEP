{
  "cells": [
    {
      "cell_type": "markdown",
      "metadata": {
        "id": "Wb8UVLHJfyxi"
      },
      "source": [
        "## Pré-processamento\n",
        "\n",
        "Neste notebook, vamos pré-processar os dados e e filtra-los para os proximos passos do projeto."
      ]
    },
    {
      "cell_type": "markdown",
      "metadata": {
        "id": "TWka4P6Yf0Kx"
      },
      "source": [
        "### Import's\n",
        "\n",
        "Importar as bibliotecas que serão utilizadas para a realização do load dos dados.\n"
      ]
    },
    {
      "cell_type": "code",
      "execution_count": 14,
      "metadata": {
        "id": "mdtTCfNrXplF"
      },
      "outputs": [],
      "source": [
        "from scipy.io import loadmat                        # Biblioteca para carregar arquivos .mat\n",
        "import numpy as np                                  # Biblioteca do numpy para manipulação de matrizes\n",
        "import mne                                          # Biblioteca para manipulação de Epochs\n",
        "from sklearn.preprocessing import LabelEncoder      # Biblioteca para codificar as classes"
      ]
    },
    {
      "cell_type": "markdown",
      "metadata": {
        "id": "ZoOftQN0f5FR"
      },
      "source": [
        "### Carregamento\n",
        "\n",
        "Carregar as bases de dados no programa e salvar em variáveis."
      ]
    },
    {
      "cell_type": "code",
      "execution_count": 15,
      "metadata": {
        "id": "Bzp3z6R-f9CJ"
      },
      "outputs": [],
      "source": [
        "# Ativa/destiva o uso do Google Drive\n",
        "\n",
        "if False:\n",
        "    from google.colab import drive\n",
        "    drive.mount('/content/drive')\n",
        "    path = 'drive/MyDrive/'\n",
        "else:\n",
        "    path = '../../'"
      ]
    },
    {
      "cell_type": "code",
      "execution_count": 16,
      "metadata": {
        "id": "XPuxRQK7XplI"
      },
      "outputs": [],
      "source": [
        "data = np.load(f\"{path}datasets/beta/data.npy\")\n",
        "labels = np.load(f\"{path}datasets/beta/labels.npy\")\n",
        "channels = list(np.load(f\"{path}datasets/beta/channels.npy\"))"
      ]
    },
    {
      "cell_type": "markdown",
      "metadata": {},
      "source": [
        "### Criando um objeto Epoch\n",
        "\n",
        "Para criar um objeto Epoch, é necessário, primeiro, criar o objeto info, que utiliza a lista de canaais."
      ]
    },
    {
      "cell_type": "code",
      "execution_count": 17,
      "metadata": {
        "id": "fuDlT_VrXplJ",
        "outputId": "bf3fb22e-2a5d-4c13-ebcb-85e227da047e"
      },
      "outputs": [
        {
          "data": {
            "text/html": [
              "<table class=\"table table-hover table-striped table-sm table-responsive small\">\n",
              "    <tr>\n",
              "        <th>Measurement date</th>\n",
              "        \n",
              "        <td>Unknown</td>\n",
              "        \n",
              "    </tr>\n",
              "    <tr>\n",
              "        <th>Experimenter</th>\n",
              "        \n",
              "        <td>Unknown</td>\n",
              "        \n",
              "    </tr>\n",
              "        <th>Participant</th>\n",
              "        \n",
              "        <td>Unknown</td>\n",
              "        \n",
              "    </tr>\n",
              "    <tr>\n",
              "        <th>Digitized points</th>\n",
              "        \n",
              "        <td>Not available</td>\n",
              "        \n",
              "    </tr>\n",
              "    <tr>\n",
              "        <th>Good channels</th>\n",
              "        <td>64 EEG</td>\n",
              "    </tr>\n",
              "    <tr>\n",
              "        <th>Bad channels</th>\n",
              "        <td>None</td>\n",
              "    </tr>\n",
              "    <tr>\n",
              "        <th>EOG channels</th>\n",
              "        <td>Not available</td>\n",
              "    </tr>\n",
              "    <tr>\n",
              "        <th>ECG channels</th>\n",
              "        <td>Not available</td>\n",
              "    \n",
              "    <tr>\n",
              "        <th>Sampling frequency</th>\n",
              "        <td>250.00 Hz</td>\n",
              "    </tr>\n",
              "    \n",
              "    \n",
              "    <tr>\n",
              "        <th>Highpass</th>\n",
              "        <td>0.00 Hz</td>\n",
              "    </tr>\n",
              "    \n",
              "    \n",
              "    <tr>\n",
              "        <th>Lowpass</th>\n",
              "        <td>125.00 Hz</td>\n",
              "    </tr>\n",
              "    \n",
              "    \n",
              "</table>"
            ],
            "text/plain": [
              "<Info | 7 non-empty values\n",
              " bads: []\n",
              " ch_names: FP1, FPZ, FP2, AF3, AF4, F7, F5, F3, F1, FZ, F2, F4, F6, F8, ...\n",
              " chs: 64 EEG\n",
              " custom_ref_applied: False\n",
              " highpass: 0.0 Hz\n",
              " lowpass: 125.0 Hz\n",
              " meas_date: unspecified\n",
              " nchan: 64\n",
              " projs: []\n",
              " sfreq: 250.0 Hz\n",
              ">"
            ]
          },
          "execution_count": 17,
          "metadata": {},
          "output_type": "execute_result"
        }
      ],
      "source": [
        "ch_types = list()\n",
        "\n",
        "for channel in channels:\n",
        "    ch_types.append('eeg')\n",
        "\n",
        "info = mne.create_info(channels, sfreq=250, ch_types=ch_types)\n",
        "info"
      ]
    },
    {
      "cell_type": "markdown",
      "metadata": {},
      "source": [
        "Agora vamos ordenar os labels e criar o dicionário de eventos."
      ]
    },
    {
      "cell_type": "code",
      "execution_count": 18,
      "metadata": {
        "id": "pHhDEHGGXplK",
        "outputId": "46a866d8-65a1-49bd-bbb5-b22456b683de"
      },
      "outputs": [],
      "source": [
        "unique_labels = sorted(set(labels))\n",
        "\n",
        "event_dict = dict()\n",
        "\n",
        "for i in range(len(unique_labels)):\n",
        "    event_dict[str(unique_labels[i])] = i"
      ]
    },
    {
      "cell_type": "markdown",
      "metadata": {},
      "source": [
        "Por fim, vamos criar o objeto Epoch, utilizando o objeto info, os dados, o dicionário de eventos."
      ]
    },
    {
      "cell_type": "code",
      "execution_count": 19,
      "metadata": {
        "id": "dG5y36E9XplL",
        "outputId": "21306a15-746b-48ec-a4a7-ea0de598f96b"
      },
      "outputs": [
        {
          "name": "stdout",
          "output_type": "stream",
          "text": [
            "Not setting metadata\n",
            "160 matching events found\n",
            "No baseline correction applied\n",
            "0 projection items activated\n"
          ]
        }
      ],
      "source": [
        "le = LabelEncoder()\n",
        "events = np.column_stack((\n",
        "    np.array(range(len(labels))),\n",
        "    np.zeros(len(labels), dtype=int),\n",
        "    le.fit_transform(labels))\n",
        ")\n",
        "\n",
        "mne_data = mne.EpochsArray(data, info, events, event_id=event_dict)\n",
        "# print(mne_data)"
      ]
    },
    {
      "cell_type": "markdown",
      "metadata": {},
      "source": [
        "### Salvando os Dados Filtrados\n",
        "\n",
        "Para finalizar vamos salvar os dados filtrados em um arquivo .fif para ser utilizado nos próximos passos do projeto."
      ]
    },
    {
      "cell_type": "code",
      "execution_count": 20,
      "metadata": {},
      "outputs": [
        {
          "name": "stdout",
          "output_type": "stream",
          "text": [
            "Setting up band-pass filter from 7 - 17 Hz\n",
            "\n",
            "FIR filter parameters\n",
            "---------------------\n",
            "Designing a one-pass, zero-phase, non-causal bandpass filter:\n",
            "- Windowed time-domain design (firwin) method\n",
            "- Hamming window with 0.0194 passband ripple and 53 dB stopband attenuation\n",
            "- Lower passband edge: 7.00\n",
            "- Lower transition bandwidth: 2.00 Hz (-6 dB cutoff frequency: 6.00 Hz)\n",
            "- Upper passband edge: 17.00 Hz\n",
            "- Upper transition bandwidth: 4.25 Hz (-6 dB cutoff frequency: 19.12 Hz)\n",
            "- Filter length: 413 samples (1.652 s)\n",
            "\n"
          ]
        },
        {
          "name": "stderr",
          "output_type": "stream",
          "text": [
            "[Parallel(n_jobs=1)]: Using backend SequentialBackend with 1 concurrent workers.\n",
            "[Parallel(n_jobs=1)]: Done   1 out of   1 | elapsed:    0.0s remaining:    0.0s\n",
            "[Parallel(n_jobs=1)]: Done   2 out of   2 | elapsed:    0.0s remaining:    0.0s\n",
            "[Parallel(n_jobs=1)]: Done   3 out of   3 | elapsed:    0.0s remaining:    0.0s\n",
            "[Parallel(n_jobs=1)]: Done   4 out of   4 | elapsed:    0.0s remaining:    0.0s\n",
            "[Parallel(n_jobs=1)]: Done 10240 out of 10240 | elapsed:    1.2s finished\n"
          ]
        }
      ],
      "source": [
        "# filtrando os dados entre 7 e 17 Hz\n",
        "filtered_mne_data = mne_data.filter(7, 17)\n",
        "\n",
        "# salvando os dados filtrados\n",
        "filtered_mne_data.save(f\"{path}datasets/beta/beta_epo.fif\", overwrite=True)\n",
        "# filtered_mne_data"
      ]
    }
  ],
  "metadata": {
    "colab": {
      "provenance": []
    },
    "kernelspec": {
      "display_name": "Python 3",
      "language": "python",
      "name": "python3"
    },
    "language_info": {
      "codemirror_mode": {
        "name": "ipython",
        "version": 3
      },
      "file_extension": ".py",
      "mimetype": "text/x-python",
      "name": "python",
      "nbconvert_exporter": "python",
      "pygments_lexer": "ipython3",
      "version": "3.10.0"
    }
  },
  "nbformat": 4,
  "nbformat_minor": 0
}
