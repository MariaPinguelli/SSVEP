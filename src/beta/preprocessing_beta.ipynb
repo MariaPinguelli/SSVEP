{
 "cells": [
  {
   "cell_type": "code",
   "execution_count": 35,
   "metadata": {},
   "outputs": [],
   "source": [
    "from scipy.io import loadmat                # Biblioteca para carregar arquivos .mat\n",
    "import numpy as np                     # Biblioteca do numpy para manipulação de matrizes\n",
    "import mne\n",
    "from sklearn.preprocessing import LabelEncoder\n",
    "\n",
    "path = \"../../datasets/beta/\""
   ]
  },
  {
   "cell_type": "code",
   "execution_count": 36,
   "metadata": {},
   "outputs": [],
   "source": [
    "data = np.load(f\"{path}data.npy\")\n",
    "labels = np.load(f\"{path}labels.npy\")\n",
    "channels = list(np.load(f\"{path}channels.npy\"))"
   ]
  },
  {
   "cell_type": "code",
   "execution_count": 37,
   "metadata": {},
   "outputs": [
    {
     "data": {
      "text/html": [
       "<table class=\"table table-hover table-striped table-sm table-responsive small\">\n",
       "    <tr>\n",
       "        <th>Measurement date</th>\n",
       "        \n",
       "        <td>Unknown</td>\n",
       "        \n",
       "    </tr>\n",
       "    <tr>\n",
       "        <th>Experimenter</th>\n",
       "        \n",
       "        <td>Unknown</td>\n",
       "        \n",
       "    </tr>\n",
       "        <th>Participant</th>\n",
       "        \n",
       "        <td>Unknown</td>\n",
       "        \n",
       "    </tr>\n",
       "    <tr>\n",
       "        <th>Digitized points</th>\n",
       "        \n",
       "        <td>Not available</td>\n",
       "        \n",
       "    </tr>\n",
       "    <tr>\n",
       "        <th>Good channels</th>\n",
       "        <td>64 EEG</td>\n",
       "    </tr>\n",
       "    <tr>\n",
       "        <th>Bad channels</th>\n",
       "        <td>None</td>\n",
       "    </tr>\n",
       "    <tr>\n",
       "        <th>EOG channels</th>\n",
       "        <td>Not available</td>\n",
       "    </tr>\n",
       "    <tr>\n",
       "        <th>ECG channels</th>\n",
       "        <td>Not available</td>\n",
       "    \n",
       "    <tr>\n",
       "        <th>Sampling frequency</th>\n",
       "        <td>512.00 Hz</td>\n",
       "    </tr>\n",
       "    \n",
       "    \n",
       "    <tr>\n",
       "        <th>Highpass</th>\n",
       "        <td>0.00 Hz</td>\n",
       "    </tr>\n",
       "    \n",
       "    \n",
       "    <tr>\n",
       "        <th>Lowpass</th>\n",
       "        <td>256.00 Hz</td>\n",
       "    </tr>\n",
       "    \n",
       "    \n",
       "</table>"
      ],
      "text/plain": [
       "<Info | 7 non-empty values\n",
       " bads: []\n",
       " ch_names: FP1, FPZ, FP2, AF3, AF4, F7, F5, F3, F1, FZ, F2, F4, F6, F8, ...\n",
       " chs: 64 EEG\n",
       " custom_ref_applied: False\n",
       " highpass: 0.0 Hz\n",
       " lowpass: 256.0 Hz\n",
       " meas_date: unspecified\n",
       " nchan: 64\n",
       " projs: []\n",
       " sfreq: 512.0 Hz\n",
       ">"
      ]
     },
     "execution_count": 37,
     "metadata": {},
     "output_type": "execute_result"
    }
   ],
   "source": [
    "ch_types = list()\n",
    "\n",
    "for channel in channels:\n",
    "    ch_types.append('eeg')\n",
    "\n",
    "info = mne.create_info(channels, sfreq=250, ch_types=ch_types)\n",
    "info"
   ]
  },
  {
   "cell_type": "code",
   "execution_count": 42,
   "metadata": {},
   "outputs": [
    {
     "data": {
      "text/plain": [
       "{'8.0': 0,\n",
       " '8.2': 1,\n",
       " '8.4': 2,\n",
       " '8.6': 3,\n",
       " '8.799999999999999': 4,\n",
       " '9.0': 5,\n",
       " '9.2': 6,\n",
       " '9.4': 7,\n",
       " '9.6': 8,\n",
       " '9.8': 9,\n",
       " '10.0': 10,\n",
       " '10.2': 11,\n",
       " '10.4': 12,\n",
       " '10.6': 13,\n",
       " '10.8': 14,\n",
       " '11.0': 15,\n",
       " '11.2': 16,\n",
       " '11.4': 17,\n",
       " '11.6': 18,\n",
       " '11.8': 19,\n",
       " '12.0': 20,\n",
       " '12.2': 21,\n",
       " '12.4': 22,\n",
       " '12.600000000000001': 23,\n",
       " '12.8': 24,\n",
       " '13.0': 25,\n",
       " '13.200000000000001': 26,\n",
       " '13.4': 27,\n",
       " '13.600000000000001': 28,\n",
       " '13.8': 29,\n",
       " '14.0': 30,\n",
       " '14.200000000000001': 31,\n",
       " '14.4': 32,\n",
       " '14.600000000000001': 33,\n",
       " '14.8': 34,\n",
       " '15.0': 35,\n",
       " '15.200000000000001': 36,\n",
       " '15.4': 37,\n",
       " '15.600000000000001': 38,\n",
       " '15.8': 39}"
      ]
     },
     "execution_count": 42,
     "metadata": {},
     "output_type": "execute_result"
    }
   ],
   "source": [
    "unique_labels = sorted(set(labels))\n",
    "\n",
    "event_dict = dict()\n",
    "\n",
    "for i in range(len(unique_labels)):\n",
    "    event_dict[str(unique_labels[i])] = i"
   ]
  },
  {
   "cell_type": "code",
   "execution_count": 43,
   "metadata": {},
   "outputs": [
    {
     "name": "stdout",
     "output_type": "stream",
     "text": [
      "Not setting metadata\n",
      "160 matching events found\n",
      "No baseline correction applied\n",
      "0 projection items activated\n",
      "Setting up band-pass filter from 7 - 17 Hz\n",
      "\n",
      "FIR filter parameters\n",
      "---------------------\n",
      "Designing a one-pass, zero-phase, non-causal bandpass filter:\n",
      "- Windowed time-domain design (firwin) method\n",
      "- Hamming window with 0.0194 passband ripple and 53 dB stopband attenuation\n",
      "- Lower passband edge: 7.00\n",
      "- Lower transition bandwidth: 2.00 Hz (-6 dB cutoff frequency: 6.00 Hz)\n",
      "- Upper passband edge: 17.00 Hz\n",
      "- Upper transition bandwidth: 4.25 Hz (-6 dB cutoff frequency: 19.12 Hz)\n",
      "- Filter length: 845 samples (1.650 s)\n",
      "\n"
     ]
    },
    {
     "name": "stderr",
     "output_type": "stream",
     "text": [
      "C:\\Users\\Maria Fernanda\\AppData\\Local\\Temp\\ipykernel_6448\\1443288772.py:11: RuntimeWarning: filter_length (845) is longer than the signal (750), distortion is likely. Reduce filter length or filter a longer signal.\n",
      "  filtered_mne_data = mne_data.filter(7, 17)\n",
      "[Parallel(n_jobs=1)]: Using backend SequentialBackend with 1 concurrent workers.\n",
      "[Parallel(n_jobs=1)]: Done   1 out of   1 | elapsed:    0.0s remaining:    0.0s\n",
      "[Parallel(n_jobs=1)]: Done   2 out of   2 | elapsed:    0.0s remaining:    0.0s\n",
      "[Parallel(n_jobs=1)]: Done   3 out of   3 | elapsed:    0.0s remaining:    0.0s\n",
      "[Parallel(n_jobs=1)]: Done   4 out of   4 | elapsed:    0.0s remaining:    0.0s\n"
     ]
    },
    {
     "name": "stdout",
     "output_type": "stream",
     "text": [
      "Overwriting existing file.\n"
     ]
    },
    {
     "name": "stderr",
     "output_type": "stream",
     "text": [
      "[Parallel(n_jobs=1)]: Done 10240 out of 10240 | elapsed:    2.8s finished\n"
     ]
    }
   ],
   "source": [
    "le = LabelEncoder()\n",
    "events = np.column_stack((\n",
    "    np.array(range(len(labels))),\n",
    "    np.zeros(len(labels), dtype=int),\n",
    "    le.fit_transform(labels))\n",
    ")\n",
    "\n",
    "mne_data = mne.EpochsArray(data, info, events, event_id=event_dict)\n",
    "# print(mne_data)\n",
    "\n",
    "filtered_mne_data = mne_data.filter(7, 17)\n",
    "filtered_mne_data.save(\"beta_epo.fif\", overwrite=True)\n",
    "# filtered_mne_data"
   ]
  }
 ],
 "metadata": {
  "kernelspec": {
   "display_name": "Python 3",
   "language": "python",
   "name": "python3"
  },
  "language_info": {
   "codemirror_mode": {
    "name": "ipython",
    "version": 3
   },
   "file_extension": ".py",
   "mimetype": "text/x-python",
   "name": "python",
   "nbconvert_exporter": "python",
   "pygments_lexer": "ipython3",
   "version": "3.11.3"
  }
 },
 "nbformat": 4,
 "nbformat_minor": 2
}
