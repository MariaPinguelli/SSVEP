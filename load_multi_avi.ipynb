{
  "cells": [
    {
      "cell_type": "markdown",
      "metadata": {
        "id": "YwtnvvmjA_n5"
      },
      "source": [
        "#Inicialização dos Dados\n",
        "\n",
        "Abrir os dados dos arquivos e formata-los para o processamento dos dados."
      ]
    },
    {
      "cell_type": "markdown",
      "metadata": {
        "id": "8AUxpbBZBDZM"
      },
      "source": [
        "###Import's\n",
        "\n",
        "Importar as bibliotecas que serão utilizadas.\n"
      ]
    },
    {
      "cell_type": "code",
      "execution_count": 16,
      "metadata": {
        "id": "OKC58lBEA6uL"
      },
      "outputs": [],
      "source": [
        "from scipy.io import loadmat                # Biblioteca para carregar arquivos .mat\n",
        "import numpy as np                          # Biblioteca do numpy para manipulação de matrizes"
      ]
    },
    {
      "cell_type": "markdown",
      "metadata": {
        "id": "SxkXxEpWBWoJ"
      },
      "source": [
        "###Carregamento\n",
        "\n",
        "Carregar as bases de dados."
      ]
    },
    {
      "cell_type": "code",
      "execution_count": 17,
      "metadata": {
        "colab": {
          "base_uri": "https://localhost:8080/"
        },
        "id": "Y-NLZ4cWBZZJ",
        "outputId": "e15ed4c3-eb31-4adc-85eb-61652eb7f178"
      },
      "outputs": [],
      "source": [
        "# Ativa/destiva o uso do Google Drive\n",
        "\n",
        "if False:\n",
        "    from google.colab import drive\n",
        "    drive.mount('/content/drive')\n",
        "    path = 'drive/MyDrive/'\n",
        "else:\n",
        "    path = ''"
      ]
    },
    {
      "cell_type": "code",
      "execution_count": 18,
      "metadata": {
        "id": "WpNoQiJSA6uP"
      },
      "outputs": [],
      "source": [
        "avi_data = list()                               # Lista para armazenar os dados dos arquivos .mat\n",
        "\n",
        "for i in range(1,6):\n",
        "    avi_data.append(loadmat(f\"{path}datasets/avi/multi/Sub{i}_1_multitarget.mat\"))"
      ]
    },
    {
      "cell_type": "markdown",
      "metadata": {
        "id": "uYBA2lQ1Bvq-"
      },
      "source": [
        "###Extração\n",
        "\n",
        "Extração dos dados"
      ]
    },
    {
      "cell_type": "code",
      "execution_count": 19,
      "metadata": {
        "colab": {
          "base_uri": "https://localhost:8080/"
        },
        "id": "GdzC3v_MA6uQ",
        "outputId": "4023de1c-6ba0-4d61-8bc9-6ea5788ccfbc"
      },
      "outputs": [
        {
          "name": "stdout",
          "output_type": "stream",
          "text": [
            "Divisão dos dados:\n",
            "(8192, 10) (10, 8192)\n",
            "(8192, 10) (10, 8192)\n",
            "(8192, 10) (10, 8192)\n",
            "(8192, 10) (10, 8192)\n",
            "(8192, 10) (10, 8192)\n",
            "\n",
            "Divisão dos rótulos (sequências):\n",
            "[7.5 8.2 7.  8.2 6.  7.5 6.  6.  8.2 8.2]\n",
            "[7.5 8.2 7.  8.2 6.  7.5 6.  6.  8.2 8.2]\n",
            "[7.5 8.2 7.  8.2 6.  7.5 6.  6.  8.2 8.2]\n",
            "[7.5 8.2 7.  8.2 6.  7.5 6.  6.  8.2 8.2]\n",
            "[7.5 8.2 7.  8.2 6.  7.5 6.  6.  8.2 8.2]\n"
          ]
        }
      ],
      "source": [
        "X = [d['Data'][0][0][7] for d in avi_data]              # Lista com os dados dos participantes\n",
        "Y = [d['Data'][0][0][8][0] for d in avi_data]           # Lista com os rótulos (sequências) dos participantes\n",
        "\n",
        "\n",
        "print(\"Divisão dos dados:\")\n",
        "for data in X:\n",
        "    print(data.shape, data.T.shape)\n",
        "\n",
        "print(\"\\nDivisão dos rótulos (sequências):\")\n",
        "for data in Y:\n",
        "    print(data)"
      ]
    },
    {
      "cell_type": "markdown",
      "metadata": {
        "id": "8BQDPk-XDUz5"
      },
      "source": [
        "###Padronização\n",
        "\n",
        "Os dados de cada participante já estão padronizados."
      ]
    },
    {
      "cell_type": "markdown",
      "metadata": {
        "id": "Py5PO5C_DZuo"
      },
      "source": [
        "###Salvar Dados\n",
        "\n",
        "Salvar os dados padronizados de cada participante em estrutura do numpy em arquivos separados."
      ]
    },
    {
      "cell_type": "code",
      "execution_count": 20,
      "metadata": {
        "colab": {
          "base_uri": "https://localhost:8080/"
        },
        "id": "zRGcXYXcZqMQ",
        "outputId": "f61e1afb-0903-4ed0-e174-e6dc0d161666"
      },
      "outputs": [],
      "source": [
        "# Salvando os dados e rótulos padronizados em arquivos .npy\n",
        "\n",
        "for i in range (5):\n",
        "  np.save(f\"{path}datasets/avi/multi/data_sub{i+1}.npy\", X[i])\n",
        "  np.save(f\"{path}datasets/avi/multi/labels_sub{i+1}.npy\", Y[i])\n"
      ]
    }
  ],
  "metadata": {
    "colab": {
      "provenance": []
    },
    "kernelspec": {
      "display_name": "Python 3 (ipykernel)",
      "language": "python",
      "name": "python3"
    },
    "language_info": {
      "codemirror_mode": {
        "name": "ipython",
        "version": 3
      },
      "file_extension": ".py",
      "mimetype": "text/x-python",
      "name": "python",
      "nbconvert_exporter": "python",
      "pygments_lexer": "ipython3",
      "version": "3.10.0"
    }
  },
  "nbformat": 4,
  "nbformat_minor": 0
}
