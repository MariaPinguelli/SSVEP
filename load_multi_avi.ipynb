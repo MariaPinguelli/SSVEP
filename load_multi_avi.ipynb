{
  "cells": [
    {
      "cell_type": "markdown",
      "source": [
        "#Inicialização dos Dados\n",
        "\n",
        "Abrir os dados dos arquivos e formata-los para o processamento dos dados."
      ],
      "metadata": {
        "id": "YwtnvvmjA_n5"
      }
    },
    {
      "cell_type": "markdown",
      "source": [
        "###Import's\n",
        "\n",
        "Importar as bibliotecas que serão utilizadas.\n"
      ],
      "metadata": {
        "id": "8AUxpbBZBDZM"
      }
    },
    {
      "cell_type": "code",
      "execution_count": 3,
      "metadata": {
        "id": "OKC58lBEA6uL"
      },
      "outputs": [],
      "source": [
        "from scipy.io import loadmat\n",
        "import numpy as np"
      ]
    },
    {
      "cell_type": "markdown",
      "source": [
        "###Carregamento\n",
        "\n",
        "Carregar as bases de dados."
      ],
      "metadata": {
        "id": "SxkXxEpWBWoJ"
      }
    },
    {
      "cell_type": "code",
      "source": [
        "from google.colab import drive\n",
        "drive.mount('/content/drive')"
      ],
      "metadata": {
        "id": "Y-NLZ4cWBZZJ",
        "outputId": "561b2a76-9ef2-412b-c906-23ca5a8ad500",
        "colab": {
          "base_uri": "https://localhost:8080/"
        }
      },
      "execution_count": 1,
      "outputs": [
        {
          "output_type": "stream",
          "name": "stdout",
          "text": [
            "Mounted at /content/drive\n"
          ]
        }
      ]
    },
    {
      "cell_type": "code",
      "execution_count": 4,
      "metadata": {
        "id": "WpNoQiJSA6uP"
      },
      "outputs": [],
      "source": [
        "avi_data = list()\n",
        "for i in range(1,6):\n",
        "    avi_data.append(loadmat(f\"drive/MyDrive/datasets/avi/multi/Sub{i}_1_multitarget.mat\"))"
      ]
    },
    {
      "cell_type": "markdown",
      "source": [
        "###Extração\n",
        "\n",
        "Extração dos dados"
      ],
      "metadata": {
        "id": "uYBA2lQ1Bvq-"
      }
    },
    {
      "cell_type": "code",
      "execution_count": 5,
      "metadata": {
        "id": "GdzC3v_MA6uQ",
        "outputId": "66c1e213-1580-4b8d-ede1-2af37c921ae2",
        "colab": {
          "base_uri": "https://localhost:8080/"
        }
      },
      "outputs": [
        {
          "output_type": "stream",
          "name": "stdout",
          "text": [
            "Divisão dos dados:\n",
            "(8192, 10) (10, 8192)\n",
            "(8192, 10) (10, 8192)\n",
            "(8192, 10) (10, 8192)\n",
            "(8192, 10) (10, 8192)\n",
            "(8192, 10) (10, 8192)\n",
            "\n",
            "Divisão dos rótulos (sequências):\n",
            "[7.5 8.2 7.  8.2 6.  7.5 6.  6.  8.2 8.2]\n",
            "[7.5 8.2 7.  8.2 6.  7.5 6.  6.  8.2 8.2]\n",
            "[7.5 8.2 7.  8.2 6.  7.5 6.  6.  8.2 8.2]\n",
            "[7.5 8.2 7.  8.2 6.  7.5 6.  6.  8.2 8.2]\n",
            "[7.5 8.2 7.  8.2 6.  7.5 6.  6.  8.2 8.2]\n"
          ]
        }
      ],
      "source": [
        "X = [d['Data'][0][0][7] for d in avi_data]\n",
        "y = [d['Data'][0][0][8][0] for d in avi_data]\n",
        "\n",
        "print(\"Divisão dos dados:\")\n",
        "for data in X:\n",
        "    print(data.shape, data.T.shape)\n",
        "\n",
        "print(\"\\nDivisão dos rótulos (sequências):\")\n",
        "for data in y:\n",
        "    print(data)"
      ]
    },
    {
      "cell_type": "code",
      "execution_count": 10,
      "metadata": {
        "id": "aPHh36gBA6uR",
        "outputId": "67cc8541-4b11-4e66-a9bb-0ddaec3f1340",
        "colab": {
          "base_uri": "https://localhost:8080/",
          "height": 284
        }
      },
      "outputs": [
        {
          "output_type": "stream",
          "name": "stderr",
          "text": [
            "<ipython-input-10-634712278921>:9: VisibleDeprecationWarning: Creating an ndarray from ragged nested sequences (which is a list-or-tuple of lists-or-tuples-or ndarrays with different lengths or shapes) is deprecated. If you meant to do this, you must specify 'dtype=object' when creating the ndarray.\n",
            "  X = np.array(temp)\n"
          ]
        },
        {
          "output_type": "error",
          "ename": "ValueError",
          "evalue": "ignored",
          "traceback": [
            "\u001b[0;31m---------------------------------------------------------------------------\u001b[0m",
            "\u001b[0;31mValueError\u001b[0m                                Traceback (most recent call last)",
            "\u001b[0;32m<ipython-input-10-634712278921>\u001b[0m in \u001b[0;36m<cell line: 9>\u001b[0;34m()\u001b[0m\n\u001b[1;32m      7\u001b[0m \u001b[0;34m\u001b[0m\u001b[0m\n\u001b[1;32m      8\u001b[0m \u001b[0;31m# y = y[0][:, list(set(range(27)) - set([3, 4, 5, 12, 13, 14]))]\u001b[0m\u001b[0;34m\u001b[0m\u001b[0;34m\u001b[0m\u001b[0m\n\u001b[0;32m----> 9\u001b[0;31m \u001b[0mX\u001b[0m \u001b[0;34m=\u001b[0m \u001b[0mnp\u001b[0m\u001b[0;34m.\u001b[0m\u001b[0marray\u001b[0m\u001b[0;34m(\u001b[0m\u001b[0mtemp\u001b[0m\u001b[0;34m)\u001b[0m\u001b[0;34m\u001b[0m\u001b[0;34m\u001b[0m\u001b[0m\n\u001b[0m\u001b[1;32m     10\u001b[0m \u001b[0mX\u001b[0m\u001b[0;34m.\u001b[0m\u001b[0mshape\u001b[0m\u001b[0;34m\u001b[0m\u001b[0;34m\u001b[0m\u001b[0m\n",
            "\u001b[0;31mValueError\u001b[0m: could not broadcast input array from shape (8192,7) into shape (8192,)"
          ]
        }
      ],
      "source": [
        "# padronizando 1º participante\n",
        "\n",
        "temp = list()\n",
        "temp.append(X[0][:, list(set(range(27)) - set([3, 4, 5, 12, 13, 14]))])\n",
        "temp.append(X[2])\n",
        "temp.append(X[3])\n",
        "\n",
        "y = y[0][:, list(set(range(27)) - set([3, 4, 5, 12, 13, 14]))]\n",
        "X = np.array(temp)\n",
        "X.shape"
      ]
    }
  ],
  "metadata": {
    "kernelspec": {
      "display_name": "Python 3 (ipykernel)",
      "language": "python",
      "name": "python3"
    },
    "language_info": {
      "codemirror_mode": {
        "name": "ipython",
        "version": 3
      },
      "file_extension": ".py",
      "mimetype": "text/x-python",
      "name": "python",
      "nbconvert_exporter": "python",
      "pygments_lexer": "ipython3",
      "version": "3.11.4"
    },
    "colab": {
      "provenance": []
    }
  },
  "nbformat": 4,
  "nbformat_minor": 0
}