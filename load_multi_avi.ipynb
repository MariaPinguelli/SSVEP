{
  "cells": [
    {
      "cell_type": "markdown",
      "source": [
        "#Inicialização dos Dados\n",
        "\n",
        "Abrir os dados dos arquivos e formata-los para o processamento dos dados."
      ],
      "metadata": {
        "id": "YwtnvvmjA_n5"
      }
    },
    {
      "cell_type": "markdown",
      "source": [
        "###Import's\n",
        "\n",
        "Importar as bibliotecas que serão utilizadas.\n"
      ],
      "metadata": {
        "id": "8AUxpbBZBDZM"
      }
    },
    {
      "cell_type": "code",
      "execution_count": 1,
      "metadata": {
        "id": "OKC58lBEA6uL"
      },
      "outputs": [],
      "source": [
        "from scipy.io import loadmat\n",
        "import numpy as np"
      ]
    },
    {
      "cell_type": "markdown",
      "source": [
        "###Carregamento\n",
        "\n",
        "Carregar as bases de dados."
      ],
      "metadata": {
        "id": "SxkXxEpWBWoJ"
      }
    },
    {
      "cell_type": "code",
      "source": [
        "from google.colab import drive\n",
        "drive.mount('/content/drive')"
      ],
      "metadata": {
        "colab": {
          "base_uri": "https://localhost:8080/"
        },
        "id": "Y-NLZ4cWBZZJ",
        "outputId": "e15ed4c3-eb31-4adc-85eb-61652eb7f178"
      },
      "execution_count": 2,
      "outputs": [
        {
          "output_type": "stream",
          "name": "stdout",
          "text": [
            "Drive already mounted at /content/drive; to attempt to forcibly remount, call drive.mount(\"/content/drive\", force_remount=True).\n"
          ]
        }
      ]
    },
    {
      "cell_type": "code",
      "execution_count": 3,
      "metadata": {
        "id": "WpNoQiJSA6uP"
      },
      "outputs": [],
      "source": [
        "avi_data = list()\n",
        "for i in range(1,6):\n",
        "    avi_data.append(loadmat(f\"drive/MyDrive/datasets/avi/multi/Sub{i}_1_multitarget.mat\"))"
      ]
    },
    {
      "cell_type": "markdown",
      "source": [
        "###Extração\n",
        "\n",
        "Extração dos dados"
      ],
      "metadata": {
        "id": "uYBA2lQ1Bvq-"
      }
    },
    {
      "cell_type": "code",
      "execution_count": 17,
      "metadata": {
        "colab": {
          "base_uri": "https://localhost:8080/"
        },
        "id": "GdzC3v_MA6uQ",
        "outputId": "4023de1c-6ba0-4d61-8bc9-6ea5788ccfbc"
      },
      "outputs": [
        {
          "output_type": "stream",
          "name": "stdout",
          "text": [
            "Divisão dos dados:\n",
            "(8192, 10) (10, 8192)\n",
            "(8192, 10) (10, 8192)\n",
            "(8192, 10) (10, 8192)\n",
            "(8192, 10) (10, 8192)\n",
            "(8192, 10) (10, 8192)\n",
            "\n",
            "Divisão dos rótulos (sequências):\n",
            "[7.5 8.2 7.  8.2 6.  7.5 6.  6.  8.2 8.2]\n",
            "[7.5 8.2 7.  8.2 6.  7.5 6.  6.  8.2 8.2]\n",
            "[7.5 8.2 7.  8.2 6.  7.5 6.  6.  8.2 8.2]\n",
            "[7.5 8.2 7.  8.2 6.  7.5 6.  6.  8.2 8.2]\n",
            "[7.5 8.2 7.  8.2 6.  7.5 6.  6.  8.2 8.2]\n"
          ]
        }
      ],
      "source": [
        "X = [d['Data'][0][0][7] for d in avi_data]\n",
        "Y = [d['Data'][0][0][8][0] for d in avi_data]\n",
        "\n",
        "print(\"Divisão dos dados:\")\n",
        "for data in X:\n",
        "    print(data.shape, data.T.shape)\n",
        "\n",
        "print(\"\\nDivisão dos rótulos (sequências):\")\n",
        "for data in Y:\n",
        "    print(data)"
      ]
    },
    {
      "cell_type": "markdown",
      "source": [
        "###Padronização\n",
        "\n",
        "Os dados de cada participante já estão padronizados."
      ],
      "metadata": {
        "id": "8BQDPk-XDUz5"
      }
    },
    {
      "cell_type": "markdown",
      "source": [
        "###Salvar Dados\n",
        "\n",
        "Salvar os dados padronizados de cada participante em estrutura do numpy em arquivos separados."
      ],
      "metadata": {
        "id": "Py5PO5C_DZuo"
      }
    },
    {
      "cell_type": "code",
      "source": [
        "tempX = list()\n",
        "# y = Y[0]\n",
        "\n",
        "\n",
        "\n",
        "\n",
        "for i in range (5):\n",
        "  # tempX.append(X[i])\n",
        "  np.save(f\"drive/MyDrive/datasets/avi/multi/data_sub{i+1}.npy\", X[i])\n",
        "  np.save(f\"drive/MyDrive/datasets/avi/multi/labels_sub{i+1}.npy\", Y[i])\n",
        "\n",
        "# X = np.array(tempX)\n",
        "# X.shape\n",
        "\n"
      ],
      "metadata": {
        "id": "zRGcXYXcZqMQ",
        "outputId": "f61e1afb-0903-4ed0-e174-e6dc0d161666",
        "colab": {
          "base_uri": "https://localhost:8080/"
        }
      },
      "execution_count": 19,
      "outputs": [
        {
          "output_type": "execute_result",
          "data": {
            "text/plain": [
              "(5, 8192, 10)"
            ]
          },
          "metadata": {},
          "execution_count": 19
        }
      ]
    }
  ],
  "metadata": {
    "kernelspec": {
      "display_name": "Python 3 (ipykernel)",
      "language": "python",
      "name": "python3"
    },
    "language_info": {
      "codemirror_mode": {
        "name": "ipython",
        "version": 3
      },
      "file_extension": ".py",
      "mimetype": "text/x-python",
      "name": "python",
      "nbconvert_exporter": "python",
      "pygments_lexer": "ipython3",
      "version": "3.11.4"
    },
    "colab": {
      "provenance": []
    }
  },
  "nbformat": 4,
  "nbformat_minor": 0
}